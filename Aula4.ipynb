{
  "nbformat": 4,
  "nbformat_minor": 0,
  "metadata": {
    "colab": {
      "provenance": [],
      "authorship_tag": "ABX9TyNvs4bWecrnJ9a8iBTecnf1",
      "include_colab_link": true
    },
    "kernelspec": {
      "name": "python3",
      "display_name": "Python 3"
    },
    "language_info": {
      "name": "python"
    }
  },
  "cells": [
    {
      "cell_type": "markdown",
      "metadata": {
        "id": "view-in-github",
        "colab_type": "text"
      },
      "source": [
        "<a href=\"https://colab.research.google.com/github/patpires/aula4/blob/main/Aula4.ipynb\" target=\"_parent\"><img src=\"https://colab.research.google.com/assets/colab-badge.svg\" alt=\"Open In Colab\"/></a>"
      ]
    },
    {
      "cell_type": "markdown",
      "source": [
        "Instalando o SDK no Google"
      ],
      "metadata": {
        "id": "48GitSTFRGGM"
      }
    },
    {
      "cell_type": "code",
      "execution_count": 2,
      "metadata": {
        "id": "OeWOCpMmQ-XC"
      },
      "outputs": [],
      "source": [
        "!pip install -q -U google-generativeai"
      ]
    },
    {
      "cell_type": "code",
      "source": [],
      "metadata": {
        "id": "cSDYhPlnRX2f"
      },
      "execution_count": 2,
      "outputs": []
    },
    {
      "cell_type": "code",
      "execution_count": 1,
      "metadata": {
        "id": "HTiaTu6O1LRC"
      },
      "outputs": [],
      "source": [
        "# Import the Python SDK\n",
        "import google.generativeai as genai\n",
        "# Used to securely store your API key\n",
        "from google.colab import userdata\n",
        "api_key = userdata.get('google.generativeai_api_key')\n",
        "GOOGLE_API_KEY=api_key\n",
        "genai.configure(api_key=GOOGLE_API_KEY)"
      ]
    },
    {
      "cell_type": "markdown",
      "source": [
        "Listar os modelos disponíveis\n"
      ],
      "metadata": {
        "id": "99STDUP_RgBl"
      }
    },
    {
      "cell_type": "code",
      "source": [
        "for m in genai.list_models():\n",
        "  if 'generateContent' in m.supported_generation_methods:\n",
        "    print(m.name)\n"
      ],
      "metadata": {
        "colab": {
          "base_uri": "https://localhost:8080/",
          "height": 144
        },
        "id": "_yp8aZuIRaF5",
        "outputId": "d60bd009-e311-4171-bb3b-f3ca1b8afe40"
      },
      "execution_count": 4,
      "outputs": [
        {
          "output_type": "stream",
          "name": "stdout",
          "text": [
            "models/gemini-1.0-pro\n",
            "models/gemini-1.0-pro-001\n",
            "models/gemini-1.0-pro-latest\n",
            "models/gemini-1.0-pro-vision-latest\n",
            "models/gemini-1.5-pro-latest\n",
            "models/gemini-pro\n",
            "models/gemini-pro-vision\n"
          ]
        }
      ]
    },
    {
      "cell_type": "markdown",
      "source": [
        "Configurações"
      ],
      "metadata": {
        "id": "r_Ex1clTWh4B"
      }
    },
    {
      "cell_type": "code",
      "source": [
        "generation_config = {\n",
        "    \"candidate_count\": 1,\n",
        "    \"temperature\": 0.5,\n",
        "}\n",
        "\n",
        "\n"
      ],
      "metadata": {
        "id": "DTYa-4Y-VGL9"
      },
      "execution_count": 5,
      "outputs": []
    },
    {
      "cell_type": "code",
      "source": [
        "safety_settings = {\n",
        "    \"HARASSMENT\": \"BLOCK_NONE\",\n",
        "    \"SEXUAL\": \"BLOCK_NONE\",\n",
        "    \"INAPPROPRIATE\": \"BLOCK_NONE\",\n",
        "}"
      ],
      "metadata": {
        "id": "_-T7CYPeV31C"
      },
      "execution_count": 6,
      "outputs": []
    },
    {
      "cell_type": "markdown",
      "source": [
        "Inicializando o modelo"
      ],
      "metadata": {
        "id": "JxPxUZoXWeBa"
      }
    },
    {
      "cell_type": "code",
      "source": [
        "model = genai.GenerativeModel (model_name=\"gemini-1.0-pro\",\n",
        "                               system_instruction=\"A Agência Reguladora de Saneamento Básico do Estado da Bahia – AGERSA, é uma Autarquia em Regime Especial, criada pela da Lei 12.602 de 29 de novembro de 2012 e vinculada a Secretaria de Infraestrutura Hídrica e Saneamento – SIHS.Tem por competência exercer as atividades de regulação e fiscalização dos serviços públicos de saneamento básico, mediante delegação enquanto não houver ente regulador criado pelo Município, ou agrupamento dos Municípios, por meio de cooperação ou coordenação federativa, portanto, lhe compete:exercer as atividades previstas pela Lei Federal nº 11.445/07 e pela Lei Estadual nº 11.172/08 para o órgão ou entidade de regulação e fiscalização dos serviços públicos de saneamento básico;promover e zelar pelo cumprimento da Política Estadual de Saneamento Básico, instituída pela Lei nº 11.172/08;estabelecer padrões e normas para a adequada prestação dos serviços e para a satisfação dos usuários;reajustar e, após audiência pública e a oitiva da Câmara Técnica de Saneamento Básico, Órgão assessor do Conselho Estadual das Cidades da Bahia – ConCidades/BA, revisar as tarifas, de modo a permitir a sustentabilidade econômico-financeira da prestação dos serviços, observada a modicidade tarifária;garantir o cumprimento das condições e metas estabelecidas pelo planejamento dos serviços;prevenir e reprimir o abuso do poder econômico, ressalvada a competência dos órgãos integrantes do Sistema Nacional de Defesa da Concorrência;atuar em cooperação com os demais órgãos e entidades integrantes da Administração Pública Estadual, bem assim com as Administrações Públicas dos municípios baianos e consórcios públicos dos quais participem;propor editar normas que disciplinem os contratos, ou outros instrumentos, cujo objeto seja a prestação de serviços públicos de saneamento básico;estipular parâmetros, critérios, fórmulas, padrões ou indicadores de mensuração e aferição da qualidade dos serviços e do desempenho dos prestadores, zelando pela sua observância e pela promoção da universalidade, continuidade, regularidade, segurança, atualidade e eficiência, bem como cortesia em sua prestação e modicidade tarifária;fiscalizar a prestação dos serviços, a partir do fornecimento, pelos prestadores de serviços de saneamento básico, das informações necessárias para esse fim, tais como dados referentes à administração, contabilidade, recursos técnicos, econômicos e financeiros desses serviços;\")\n",
        "\n"
      ],
      "metadata": {
        "id": "lCPCwLAtWmdG"
      },
      "execution_count": 24,
      "outputs": []
    },
    {
      "cell_type": "code",
      "source": [
        "response = model.generate_content(\"Vamos aprender conteúdo sobre IA. Me dê sugestões.\")\n",
        "print(response.text)\n"
      ],
      "metadata": {
        "colab": {
          "base_uri": "https://localhost:8080/",
          "height": 852
        },
        "id": "kMqUn3baHV3O",
        "outputId": "89097098-60c9-4b08-ddbd-c8355e68905c"
      },
      "execution_count": 10,
      "outputs": [
        {
          "output_type": "stream",
          "name": "stdout",
          "text": [
            "**Introdução à IA**\n",
            "\n",
            "* Definição e conceitos básicos de IA\n",
            "* Histórico e evolução da IA\n",
            "* Tipos diferentes de IA\n",
            "* Aplicações da IA em vários setores\n",
            "\n",
            "**Aprendizado de Máquina**\n",
            "\n",
            "* Conceitos de aprendizado de máquina\n",
            "* Tipos de aprendizado de máquina: supervisionado, não supervisionado e por reforço\n",
            "* Algoritmos de aprendizado de máquina: regressão linear, classificação, agrupamento\n",
            "* Preparação e avaliação de dados para aprendizado de máquina\n",
            "\n",
            "**Aprendizado Profundo**\n",
            "\n",
            "* Introdução ao aprendizado profundo\n",
            "* Redes neurais artificiais\n",
            "* Arquiteturas de redes neurais (CNN, RNN, LSTM)\n",
            "* Treinamento e otimização de redes neurais\n",
            "\n",
            "**Processamento de Linguagem Natural (PNL)**\n",
            "\n",
            "* Conceitos básicos de PNL\n",
            "* Processamento de texto (tokenização, parse, extração de recursos)\n",
            "* Geração de texto e tradução automática\n",
            "* Análise de sentimento e processamento de voz\n",
            "\n",
            "**Visão Computacional**\n",
            "\n",
            "* Introdução à visão computacional\n",
            "* Reconhecimento de objetos, detecção de rosto e segmentação de imagem\n",
            "* Redes neurais convolucionais (CNNs)\n",
            "* Aplicações da visão computacional\n",
            "\n",
            "**Ética e Implicações Sociais da IA**\n",
            "\n",
            "* Dilemas éticos em IA (preconceito, discriminação, segurança)\n",
            "* Implicações sociais da IA (perda de empregos, desigualdade)\n",
            "* Regulamentação ética e política para IA\n",
            "\n",
            "**Recursos Adicionais**\n",
            "\n",
            "* **Cursos Online:** Coursera, edX, Udemy\n",
            "* **Livros:** \"Artificial Intelligence: A Modern Approach\" (Stuart Russell e Peter Norvig), \"Deep Learning\" (Ian Goodfellow e outros)\n",
            "* **Revistas e Conferências:** International Journal of Artificial Intelligence, NeurIPS, ICML\n"
          ]
        }
      ]
    },
    {
      "cell_type": "code",
      "source": [
        "chat = model.start_chat(history=[])\n"
      ],
      "metadata": {
        "id": "KbwrbsfLJycu"
      },
      "execution_count": 11,
      "outputs": []
    },
    {
      "cell_type": "code",
      "source": [
        "prompt = input(\"Aguardando prompt... \")\n",
        "while prompt != \"fim\":\n",
        "  response = chat.send_message(prompt)\n",
        "  print(\"Resposta: \",response.text,\"/n\")\n",
        "  prompt = input(\"Esperando prompt\")\n"
      ],
      "metadata": {
        "colab": {
          "base_uri": "https://localhost:8080/"
        },
        "id": "JAgAhnBxKNb0",
        "outputId": "3f1c8e64-26e7-41f3-f0fc-7250e842e6b8"
      },
      "execution_count": 16,
      "outputs": [
        {
          "name": "stdout",
          "output_type": "stream",
          "text": [
            "Aguardando prompt... fim\n"
          ]
        }
      ]
    },
    {
      "cell_type": "code",
      "source": [
        "#Melhorando a visualização\n",
        "#Código disponível em https://ai.google.dev/tutorials/python_quickstart#import_packages\n",
        "import textwrap\n",
        "\n",
        "from IPython.display import display\n",
        "from IPython. display import Markdown\n",
        "\n",
        "def to_markdown (text):\n",
        "  text = text.replace('●', '  *')\n",
        "  return Markdown(textwrap.indent(text, '> ', predicate=lambda _: True))\n",
        "#Imprimindo O histórico\n",
        "for message in chat.history:\n",
        "  display(to_markdown(f'**{message.role}**: {message.parts[0].text}'))\n",
        "  print('------------------------------------')\n",
        "\n"
      ],
      "metadata": {
        "colab": {
          "base_uri": "https://localhost:8080/",
          "height": 161
        },
        "id": "3k1cng5cKgR6",
        "outputId": "8b2a8c54-f8d2-48cb-b95c-b6fb7ca86a3c"
      },
      "execution_count": 22,
      "outputs": [
        {
          "output_type": "display_data",
          "data": {
            "text/plain": [
              "<IPython.core.display.Markdown object>"
            ],
            "text/markdown": "> **user**: que horas é essa"
          },
          "metadata": {}
        },
        {
          "output_type": "stream",
          "name": "stdout",
          "text": [
            "------------------------------------\n"
          ]
        },
        {
          "output_type": "display_data",
          "data": {
            "text/plain": [
              "<IPython.core.display.Markdown object>"
            ],
            "text/markdown": "> **model**: Não tenho acesso a informações em tempo real, portanto não posso fornecer a hora atual. Recomendo verificar um relógio ou aplicativo de hora para obter a hora mais precisa."
          },
          "metadata": {}
        },
        {
          "output_type": "stream",
          "name": "stdout",
          "text": [
            "------------------------------------\n"
          ]
        }
      ]
    },
    {
      "cell_type": "code",
      "source": [
        "#System Instructions\n",
        "systeminstructions = \"Quando se falar em AGERSA, entenda o perfil e o conteudo: \\n\"\n"
      ],
      "metadata": {
        "id": "yifiuBn1S3qa"
      },
      "execution_count": 23,
      "outputs": []
    }
  ]
}